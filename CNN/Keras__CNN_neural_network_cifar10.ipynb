{
 "cells": [
  {
   "cell_type": "code",
   "execution_count": 1,
   "id": "98fe42ae",
   "metadata": {},
   "outputs": [],
   "source": [
    "import os\n",
    "os.environ['TF_CPP_MIN_LOG_LEVEL'] = '2'"
   ]
  },
  {
   "cell_type": "code",
   "execution_count": 3,
   "id": "ea937362",
   "metadata": {},
   "outputs": [],
   "source": [
    "import tensorflow as tf\n",
    "from tensorflow.keras.datasets import cifar10\n",
    "from tensorflow.keras.utils import to_categorical\n",
    "from tensorflow.keras.layers import Dropout, Dense, Conv2D, MaxPooling2D, Flatten, Input,\\\n",
    "                                    BatchNormalization, GlobalAveragePooling2D\n",
    "from tensorflow.keras.models import Sequential\n",
    "from tensorflow.keras.losses import CategoricalCrossentropy\n",
    "from tensorflow.keras.optimizers import Adam\n",
    "from tensorflow.keras.metrics import CategoricalAccuracy\n",
    "from tensorflow.keras.callbacks import EarlyStopping"
   ]
  },
  {
   "cell_type": "code",
   "execution_count": 4,
   "id": "4a4ca53a",
   "metadata": {},
   "outputs": [],
   "source": [
    "(x_train, y_train), (x_test, y_test) = cifar10.load_data()"
   ]
  },
  {
   "cell_type": "code",
   "execution_count": 5,
   "id": "a4b6ba41",
   "metadata": {},
   "outputs": [],
   "source": [
    "x_train = x_train / 255\n",
    "x_test = x_test / 255\n",
    "\n",
    "y_train = to_categorical(y_train, 10)\n",
    "y_test = to_categorical(y_test, 10)"
   ]
  },
  {
   "cell_type": "code",
   "execution_count": 28,
   "id": "12b9d24c",
   "metadata": {},
   "outputs": [
    {
     "name": "stdout",
     "output_type": "stream",
     "text": [
      "Model: \"T_Rex\"\n",
      "_________________________________________________________________\n",
      " Layer (type)                Output Shape              Param #   \n",
      "=================================================================\n",
      " conv2d_25 (Conv2D)          (None, 16, 16, 16)        448       \n",
      "                                                                 \n",
      " conv2d_26 (Conv2D)          (None, 8, 8, 16)          2320      \n",
      "                                                                 \n",
      " max_pooling2d_9 (MaxPoolin  (None, 8, 8, 16)          0         \n",
      " g2D)                                                            \n",
      "                                                                 \n",
      " conv2d_27 (Conv2D)          (None, 4, 4, 32)          4640      \n",
      "                                                                 \n",
      " conv2d_28 (Conv2D)          (None, 2, 2, 32)          9248      \n",
      "                                                                 \n",
      " conv2d_29 (Conv2D)          (None, 1, 1, 32)          9248      \n",
      "                                                                 \n",
      " max_pooling2d_10 (MaxPooli  (None, 1, 1, 32)          0         \n",
      " ng2D)                                                           \n",
      "                                                                 \n",
      " conv2d_30 (Conv2D)          (None, 1, 1, 64)          18496     \n",
      "                                                                 \n",
      " conv2d_31 (Conv2D)          (None, 1, 1, 64)          36928     \n",
      "                                                                 \n",
      " conv2d_32 (Conv2D)          (None, 1, 1, 64)          36928     \n",
      "                                                                 \n",
      " max_pooling2d_11 (MaxPooli  (None, 1, 1, 64)          0         \n",
      " ng2D)                                                           \n",
      "                                                                 \n",
      " batch_normalization_3 (Bat  (None, 1, 1, 64)          256       \n",
      " chNormalization)                                                \n",
      "                                                                 \n",
      " global_average_pooling2d_3  (None, 64)                0         \n",
      "  (GlobalAveragePooling2D)                                       \n",
      "                                                                 \n",
      " dense_9 (Dense)             (None, 32)                2080      \n",
      "                                                                 \n",
      " dropout_5 (Dropout)         (None, 32)                0         \n",
      "                                                                 \n",
      " dense_10 (Dense)            (None, 10)                330       \n",
      "                                                                 \n",
      "=================================================================\n",
      "Total params: 120922 (472.35 KB)\n",
      "Trainable params: 120794 (471.85 KB)\n",
      "Non-trainable params: 128 (512.00 Byte)\n",
      "_________________________________________________________________\n"
     ]
    }
   ],
   "source": [
    "model = Sequential([\n",
    "    Input(shape=(32, 32, 3)),\n",
    "    Conv2D(16, kernel_size=(3, 3), strides=(2, 2), padding='same', activation='relu'),\n",
    "    Conv2D(16, kernel_size=(3, 3), strides=(2, 2), padding='same', activation='relu'),\n",
    "    MaxPooling2D(pool_size=(2, 2), padding='same', strides=(1, 1)),\n",
    "    Conv2D(32, kernel_size=(3, 3), strides=(2, 2), padding='same', activation='relu'),\n",
    "    Conv2D(32, kernel_size=(3, 3), strides=(2, 2), padding='same', activation='relu'),\n",
    "    Conv2D(32, kernel_size=(3, 3), strides=(2, 2), padding='same', activation='relu'),\n",
    "    MaxPooling2D(pool_size=(2, 2), padding='same', strides=(1, 1)),\n",
    "    Conv2D(64, kernel_size=(3, 3), strides=(1, 1), padding='same', activation='relu'),\n",
    "    Conv2D(64, kernel_size=(3, 3), strides=(1, 1), padding='same', activation='relu'),\n",
    "    Conv2D(64, kernel_size=(3, 3), strides=(1, 1), padding='same', activation='relu'),\n",
    "    MaxPooling2D(pool_size=(2, 2), padding='same', strides=(1, 1)),\n",
    "    BatchNormalization(),\n",
    "    GlobalAveragePooling2D(),\n",
    "    Dense(32, activation='relu'),\n",
    "    Dropout(0.2),\n",
    "    Dense(10, activation='softmax')\n",
    "],name='T_Rex')\n",
    "\n",
    "model.summary()"
   ]
  },
  {
   "cell_type": "code",
   "execution_count": 32,
   "id": "a0501dcc",
   "metadata": {},
   "outputs": [],
   "source": [
    "callback = tf.keras.callbacks.EarlyStopping(\n",
    "    monitor=\"val_loss\",\n",
    "    min_delta=0.001,\n",
    "    patience=3,\n",
    "    verbose=1,\n",
    "    mode=\"auto\",\n",
    "    baseline=None,\n",
    "    restore_best_weights=True,\n",
    "    start_from_epoch=0,\n",
    ")"
   ]
  },
  {
   "cell_type": "code",
   "execution_count": 46,
   "id": "0eedb497",
   "metadata": {},
   "outputs": [],
   "source": [
    "model.compile(optimizer=Adam(learning_rate=0.0005),\n",
    "             loss='categorical_crossentropy',\n",
    "             metrics=['categorical_accuracy'])"
   ]
  },
  {
   "cell_type": "code",
   "execution_count": 47,
   "id": "6acc24ad",
   "metadata": {},
   "outputs": [
    {
     "name": "stdout",
     "output_type": "stream",
     "text": [
      "Epoch 1/10\n",
      "1250/1250 [==============================] - 32s 22ms/step - loss: 0.8729 - categorical_accuracy: 0.6923 - val_loss: 1.0929 - val_categorical_accuracy: 0.6308\n",
      "Epoch 2/10\n",
      "1250/1250 [==============================] - 27s 22ms/step - loss: 0.8733 - categorical_accuracy: 0.6923 - val_loss: 1.0936 - val_categorical_accuracy: 0.6299\n",
      "Epoch 3/10\n",
      "1250/1250 [==============================] - 27s 22ms/step - loss: 0.8678 - categorical_accuracy: 0.6963 - val_loss: 1.0864 - val_categorical_accuracy: 0.6324\n",
      "Epoch 4/10\n",
      "1250/1250 [==============================] - 26s 21ms/step - loss: 0.8586 - categorical_accuracy: 0.7003 - val_loss: 1.0996 - val_categorical_accuracy: 0.6289\n",
      "Epoch 5/10\n",
      "1250/1250 [==============================] - 26s 21ms/step - loss: 0.8531 - categorical_accuracy: 0.7000 - val_loss: 1.0865 - val_categorical_accuracy: 0.6312\n",
      "Epoch 6/10\n",
      "1250/1250 [==============================] - ETA: 0s - loss: 0.8474 - categorical_accuracy: 0.7042Restoring model weights from the end of the best epoch: 3.\n",
      "1250/1250 [==============================] - 26s 21ms/step - loss: 0.8474 - categorical_accuracy: 0.7042 - val_loss: 1.1085 - val_categorical_accuracy: 0.6335\n",
      "Epoch 6: early stopping\n",
      "313/313 [==============================] - 3s 8ms/step - loss: 1.1094 - categorical_accuracy: 0.6257\n"
     ]
    },
    {
     "data": {
      "text/plain": [
       "[1.1094002723693848, 0.6256999969482422]"
      ]
     },
     "execution_count": 47,
     "metadata": {},
     "output_type": "execute_result"
    }
   ],
   "source": [
    "model.fit(x_train, y_train,\n",
    "         batch_size=32,\n",
    "         epochs=10,\n",
    "         validation_split=0.2,\n",
    "         callbacks=[callback])\n",
    "\n",
    "model.evaluate(x_test, y_test)"
   ]
  }
 ],
 "metadata": {
  "kernelspec": {
   "display_name": "Python 3 (ipykernel)",
   "language": "python",
   "name": "python3"
  },
  "language_info": {
   "codemirror_mode": {
    "name": "ipython",
    "version": 3
   },
   "file_extension": ".py",
   "mimetype": "text/x-python",
   "name": "python",
   "nbconvert_exporter": "python",
   "pygments_lexer": "ipython3",
   "version": "3.11.3"
  }
 },
 "nbformat": 4,
 "nbformat_minor": 5
}
